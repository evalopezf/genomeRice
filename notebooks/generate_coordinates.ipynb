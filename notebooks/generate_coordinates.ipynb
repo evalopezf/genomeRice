{
 "cells": [
  {
   "cell_type": "markdown",
   "id": "89fad523",
   "metadata": {},
   "source": [
    "# Generación de Coordenadas de Países\n",
    "\n",
    "Este notebook obtiene las coordenadas (latitud y longitud) de los países en nuestro dataset usando geopy y las guarda en un archivo JSON para usar en la aplicación Streamlit."
   ]
  },
  {
   "cell_type": "code",
   "execution_count": null,
   "id": "15cd540f",
   "metadata": {},
   "outputs": [],
   "source": [
    "# Importar librerías necesarias\n",
    "import pandas as pd\n",
    "import json\n",
    "from geopy.geocoders import Nominatim\n",
    "import time\n",
    "import numpy as np\n",
    "from pathlib import Path"
   ]
  },
  {
   "cell_type": "code",
   "execution_count": null,
   "id": "9b822a0b",
   "metadata": {},
   "outputs": [],
   "source": [
    "# Cargar datos originales\n",
    "df = pd.read_csv('../reports/traits_geno_aligned.csv')\n",
    "print(f\"Dataset cargado con {len(df)} filas\")"
   ]
  },
  {
   "cell_type": "code",
   "execution_count": null,
   "id": "8757fcdb",
   "metadata": {},
   "outputs": [],
   "source": [
    "# Configurar geocoder\n",
    "geolocator = Nominatim(user_agent=\"rice_eda_2025\")\n",
    "\n",
    "def safe_geocode(location_name):\n",
    "    \"\"\"Obtiene las coordenadas de un lugar de forma segura\"\"\"\n",
    "    try:\n",
    "        location = geolocator.geocode(location_name, timeout=10)\n",
    "        if location:\n",
    "            return location.latitude, location.longitude\n",
    "    except Exception as e:\n",
    "        print(f\"Error con {location_name}: {str(e)}\")\n",
    "    return None, None\n",
    "\n",
    "# Obtener lista única de países\n",
    "countries = df['country'].dropna().unique()\n",
    "coordinates_map = {}\n",
    "\n",
    "print(\"Obteniendo coordenadas de países...\")\n",
    "for country in countries:\n",
    "    # Intentar con el nombre original\n",
    "    lat, lon = safe_geocode(country)\n",
    "    \n",
    "    # Si falla, intentar reemplazando guiones bajos por espacios\n",
    "    if lat is None:\n",
    "        lat, lon = safe_geocode(country.replace('_', ' '))\n",
    "    \n",
    "    if lat is not None and lon is not None:\n",
    "        coordinates_map[country] = [lat, lon]\n",
    "        print(f\"✓ {country}: {lat:.2f}°, {lon:.2f}°\")\n",
    "    else:\n",
    "        print(f\"✗ {country}: NO encontrado\")\n",
    "    \n",
    "    # Esperar entre peticiones para no sobrecargar el servicio\n",
    "    time.sleep(1.5)\n",
    "\n",
    "print(f\"\\n✓ Coordenadas obtenidas para {len(coordinates_map)} países\")"
   ]
  },
  {
   "cell_type": "code",
   "execution_count": null,
   "id": "7d5bae67",
   "metadata": {},
   "outputs": [],
   "source": [
    "# Fallback manual para países que puedan fallar\n",
    "fallback_coordinates = {\n",
    "    'South_Korea': [35.9078, 127.7669],\n",
    "    'North_Korea': [40.3399, 127.5101],\n",
    "    'Taiwan': [23.5937, 121.0254]\n",
    "}\n",
    "\n",
    "# Añadir fallbacks al mapa de coordenadas\n",
    "coordinates_map.update(fallback_coordinates)\n",
    "\n",
    "# Guardar el mapa de coordenadas en un archivo JSON\n",
    "output_path = Path('../data/country_coordinates.json')\n",
    "output_path.parent.mkdir(exist_ok=True)\n",
    "\n",
    "with open(output_path, 'w', encoding='utf-8') as f:\n",
    "    json.dump(coordinates_map, f, indent=4, ensure_ascii=False)\n",
    "\n",
    "print(f\"✓ Coordenadas guardadas en {output_path}\")"
   ]
  },
  {
   "cell_type": "code",
   "execution_count": null,
   "id": "50dedab3",
   "metadata": {},
   "outputs": [],
   "source": [
    "# Verificar el contenido del archivo\n",
    "with open(output_path) as f:\n",
    "    saved_coords = json.load(f)\n",
    "\n",
    "print(\"Muestra de coordenadas guardadas:\")\n",
    "for country, coords in list(saved_coords.items())[:5]:\n",
    "    print(f\"{country}: {coords}\")"
   ]
  }
 ],
 "metadata": {
  "language_info": {
   "name": "python"
  }
 },
 "nbformat": 4,
 "nbformat_minor": 5
}
