{
 "cells": [
  {
   "cell_type": "code",
   "execution_count": null,
   "id": "1f8484ae",
   "metadata": {},
   "outputs": [],
   "source": []
  },
  {
   "cell_type": "code",
   "execution_count": 6,
   "id": "1e161c8e",
   "metadata": {},
   "outputs": [
    {
     "name": "stderr",
     "output_type": "stream",
     "text": [
      "C:\\Users\\evalo\\AppData\\Local\\Temp\\ipykernel_22988\\870567157.py:16: FutureWarning: Passing literal html to 'read_html' is deprecated and will be removed in a future version. To read from a literal string, wrap it in a 'StringIO' object.\n",
      "  df = pd.read_html(str(table))[0]\n"
     ]
    },
    {
     "name": "stdout",
     "output_type": "stream",
     "text": [
      "Dimensiones de la tabla: (3010, 12)\n",
      "\n",
      "Primeras 5 filas:\n",
      "   Check All  ID  code                   name  \\\n",
      "0        NaN   1  B001                Heibiao   \n",
      "1        NaN   2  B002              Sansuijin   \n",
      "2        NaN   3  B003            Zaoshengbai   \n",
      "3        NaN   4  B004  Qiuguang tentxi104hao   \n",
      "4        NaN   5  B005                 Wanshi   \n",
      "\n",
      "  meta-infomation-based subspecies SNP-based subspecies SNP-based subgroup  \\\n",
      "0                             TEMP                  JAP                JG7   \n",
      "1                             TEMP                  JAP                JG7   \n",
      "2                             TEMP                  JAP                JG8   \n",
      "3                             TEMP                  JAP                JG7   \n",
      "4                             TEMP                  JAP                JG7   \n",
      "\n",
      "  country region  sequencing depth  mapping depth  mapping coverage  \n",
      "0   China    EAS             29.67          29.03             97.64  \n",
      "1   China    EAS             15.83          14.97             96.85  \n",
      "2   China    EAS             17.76          17.44             95.33  \n",
      "3   Japan    EAS             23.48          23.24             96.98  \n",
      "4   Japan    EAS             18.49          17.85             96.46  \n",
      "\n",
      "Tabla completa guardada en: 3k_rice_table_complete.csv\n",
      "Total de filas guardadas: 3010\n"
     ]
    }
   ],
   "source": [
    "import pandas as pd\n",
    "from bs4 import BeautifulSoup\n",
    "\n",
    "# Leer el archivo HTML local\n",
    "with open(\"3K rice table.html\", \"r\", encoding=\"utf-8\") as f:\n",
    "    html_content = f.read()\n",
    "\n",
    "soup = BeautifulSoup(html_content, \"html.parser\")\n",
    "\n",
    "# Buscar la tabla con la clase específica (table-bordered table-hover)\n",
    "table = soup.find(\"table\", class_=\"table table-bordered table-hover\")\n",
    "if table is None:\n",
    "    print(\"No se encontró la tabla principal en el archivo HTML.\")\n",
    "else:\n",
    "    # Convertir la tabla HTML a DataFrame\n",
    "    df = pd.read_html(str(table))[0]\n",
    "    \n",
    "    # Limpiar los datos - eliminar filas completamente vacías\n",
    "    df = df.dropna(how='all')\n",
    "    \n",
    "    print(f\"Dimensiones de la tabla: {df.shape}\")\n",
    "    print(\"\\nPrimeras 5 filas:\")\n",
    "    print(df.head())\n",
    "    \n",
    "    # Guardar toda la tabla sin filtrar\n",
    "    output_file = \"3k_rice_table_complete.csv\"\n",
    "    df.to_csv(output_file, index=False)\n",
    "    print(f\"\\nTabla completa guardada en: {output_file}\")\n",
    "    print(f\"Total de filas guardadas: {len(df)}\")"
   ]
  }
 ],
 "metadata": {
  "kernelspec": {
   "display_name": ".env",
   "language": "python",
   "name": "python3"
  },
  "language_info": {
   "codemirror_mode": {
    "name": "ipython",
    "version": 3
   },
   "file_extension": ".py",
   "mimetype": "text/x-python",
   "name": "python",
   "nbconvert_exporter": "python",
   "pygments_lexer": "ipython3",
   "version": "3.12.10"
  }
 },
 "nbformat": 4,
 "nbformat_minor": 5
}
